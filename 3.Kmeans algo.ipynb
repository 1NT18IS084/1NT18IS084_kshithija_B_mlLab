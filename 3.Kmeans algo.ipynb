{
 "cells": [
  {
   "cell_type": "code",
   "execution_count": 4,
   "metadata": {},
   "outputs": [],
   "source": [
    "import math\n",
    "cluster1=[]\n",
    "cluster2=[]\n",
    "cluster3=[]\n",
    "x1,y1=[6.2,3.2]\n",
    "x2,y2=[6.6,3.7]\n",
    "x3,y3=[6.5,3.0]\n",
    "points=[[5.9,3.2],[4.6,2.9],[6.2,2.8],[4.7,3.2],[5.5,4.2],[5.0,3.0],[4.9,3.1],[6.7,3.1],[5.1,3.8],[6.0,3.0]]\n"
   ]
  },
  {
   "cell_type": "code",
   "execution_count": 5,
   "metadata": {},
   "outputs": [
    {
     "name": "stdout",
     "output_type": "stream",
     "text": [
      "[[5.9, 3.2], [4.6, 2.9], [4.7, 3.2], [5.0, 3.0], [4.9, 3.1], [5.1, 3.8], [6.0, 3.0]]\n",
      "[[5.5, 4.2]]\n",
      "[[6.2, 2.8], [6.7, 3.1]]\n"
     ]
    }
   ],
   "source": [
    "def eucledian_distan(a,b):\n",
    "    dist1=math.sqrt((a-x1)**2+(b-y1)**2)\n",
    "    dist2=math.sqrt((a-x2)**2+(b-y2)**2)\n",
    "    dist3=math.sqrt((a-x3)**2+(b-y3)**2)\n",
    "    mind=min(dist1,dist2,dist3)\n",
    "    if mind==dist1:\n",
    "        cluster1.append([a,b])\n",
    "    elif mind==dist2:\n",
    "        cluster2.append([a,b])\n",
    "    else:\n",
    "        cluster3.append([a,b])\n",
    "for i,j in points:\n",
    "    eucledian_distan(i,j)\n",
    "print(cluster1)\n",
    "print(cluster2)\n",
    "print(cluster3)"
   ]
  },
  {
   "cell_type": "code",
   "execution_count": 6,
   "metadata": {},
   "outputs": [
    {
     "name": "stdout",
     "output_type": "stream",
     "text": [
      "5.17 3.17\n"
     ]
    }
   ],
   "source": [
    "sum1=0\n",
    "sum2=0\n",
    "for i,j in cluster1: \n",
    "    sum1=sum1+i\n",
    "    sum2=sum2+j\n",
    "nx1=round(sum1/len(cluster1),2)\n",
    "ny1=round(sum2/len(cluster1),2)\n",
    "print(nx1,ny1)"
   ]
  },
  {
   "cell_type": "code",
   "execution_count": 7,
   "metadata": {},
   "outputs": [
    {
     "name": "stdout",
     "output_type": "stream",
     "text": [
      "[[4.6, 2.9], [5.0, 3.0], [5.1, 3.8]]\n",
      "[[5.9, 3.2], [4.7, 3.2], [4.9, 3.1], [6.0, 3.0]]\n"
     ]
    }
   ],
   "source": [
    "cluster4=[]\n",
    "def new_euclean_distance(a,b):\n",
    "    ndist1=math.sqrt((a-nx1)**2+(b-ny1)**2)\n",
    "    if ndist1<math.sqrt((a-x1)**2+(b-y1)**2):\n",
    "        cluster4.append([a,b])\n",
    "        cluster1.remove([a,b])\n",
    "    else:\n",
    "        pass\n",
    "for i,j in cluster1:\n",
    "    new_euclean_distance(i,j)\n",
    "print(cluster4)\n",
    "print(cluster1)\n"
   ]
  },
  {
   "cell_type": "code",
   "execution_count": 8,
   "metadata": {},
   "outputs": [
    {
     "name": "stdout",
     "output_type": "stream",
     "text": [
      "3.67 2.42\n"
     ]
    }
   ],
   "source": [
    "sum1=0\n",
    "sum2=0\n",
    "for i,j in cluster4:\n",
    "    sum1=sum1+i\n",
    "    sum2=sum2+j\n",
    "nx1=round(sum1/len(cluster1),2)\n",
    "ny1=round(sum2/len(cluster1),2)\n",
    "print(nx1,ny1)"
   ]
  },
  {
   "cell_type": "code",
   "execution_count": null,
   "metadata": {},
   "outputs": [],
   "source": []
  }
 ],
 "metadata": {
  "kernelspec": {
   "display_name": "Python 3",
   "language": "python",
   "name": "python3"
  },
  "language_info": {
   "codemirror_mode": {
    "name": "ipython",
    "version": 3
   },
   "file_extension": ".py",
   "mimetype": "text/x-python",
   "name": "python",
   "nbconvert_exporter": "python",
   "pygments_lexer": "ipython3",
   "version": "3.7.3"
  }
 },
 "nbformat": 4,
 "nbformat_minor": 2
}
